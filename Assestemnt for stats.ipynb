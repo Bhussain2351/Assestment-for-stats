{
 "cells": [
  {
   "cell_type": "code",
   "execution_count": 1,
   "id": "a787c8a1-2f44-4d27-b27a-a1d7a9dbc7d6",
   "metadata": {},
   "outputs": [],
   "source": [
    "# 1 Ans.\n",
    "\n",
    "# The assumptions of ANOVA are as follows:\n",
    "# Normality: The data within each group should be normally distributed.\n",
    "# Homogeneity of variance: The variance of the data within each group should be equal.\n",
    "# Independence: The observations within each group should be independent"
   ]
  },
  {
   "cell_type": "code",
   "execution_count": 2,
   "id": "08a582ff-5421-4eeb-946c-a73fc1fe028b",
   "metadata": {},
   "outputs": [],
   "source": [
    "# 2 Ans.\n",
    "\n",
    "# Types of ANOVA testing\n",
    "# One-Way ANOVA. This term is used when one independent variable (factor) contains three or more levels or groups. ...\n",
    "# Two-Way ANOVA. Involves two independent variables (factors) and is used when two main effects and interactions exist between them. ...\n",
    "# Factorial ANOVA. ...\n",
    "# Repeated Measures ANOVA"
   ]
  },
  {
   "cell_type": "code",
   "execution_count": 3,
   "id": "9543ce41-e37f-4509-a7ca-8c857c8a7b29",
   "metadata": {},
   "outputs": [],
   "source": [
    "# 3 Ans.\n",
    "\n",
    "# By partitioning total variance into components, ANOVA unravels relationships between variables and identifies \n",
    "# true sources of variation. ANOVA can handle multiple factors and their interactions, providing \n",
    "# a robust way to better understand intricate relationships\n"
   ]
  },
  {
   "cell_type": "code",
   "execution_count": 4,
   "id": "17596535-bac3-430f-87b5-aa653ec31b56",
   "metadata": {},
   "outputs": [],
   "source": [
    "# 4 Ans.\n",
    "\n",
    "# Sum of Squares Total (SST) – The sum of squared differences between individual data points (yi) and the mean of the response variable (y).\n",
    "\n",
    "# SST = Σ(yi – y)2\n",
    "\n",
    "\n",
    "# Sum of Squares Regression (SSR) – The sum of squared differences between predicted data points (ŷi) and the mean of the response variable(y).\n",
    "\n",
    "# SSR = Σ(ŷi – y)2\n",
    "\n",
    "\n"
   ]
  },
  {
   "cell_type": "code",
   "execution_count": 5,
   "id": "e4c8b9f7-ae56-4eab-8a5a-fbb7ae50cfbc",
   "metadata": {},
   "outputs": [],
   "source": [
    "# 5 Ans.\n",
    "\n",
    "# Two-Way ANOVA: Two-Way ANOVA in statistics stands for Analysis of Variance and \n",
    "# it is used to check whether there is a statistically significant difference between the mean value of three or more\n",
    "# that has been divided into two factors. In simple words, ANOVA is a test conducted in statistics and \n",
    "# it is used to interpret the difference between the mean value of at least three groups. \n",
    "# The main objective of a two-way ANOVA is to find out how two factors affect a response variable and to find out \n",
    "# whether there is a relation between the two factors on the response variable."
   ]
  },
  {
   "cell_type": "code",
   "execution_count": null,
   "id": "d7adfd57-21f3-4f74-a3a0-e9e4f3a0a67c",
   "metadata": {},
   "outputs": [],
   "source": [
    "# 6 Ans. \n",
    "\n",
    "# Yes, you can use Tukey-Kramer or Tukey HSD when there is significant interaction between the two factors in a Two-Way ANOVA.\n",
    "# However, it is important to note that these tests are not always the most powerful tests in the presence of interaction.\n",
    "\n",
    "# Post hoc tests are used to follow up on a significant ANOVA by identifying which specific means are significantly \n",
    "# different from each other. Tukey-Kramer and Tukey HSD are two of the most common post hoc tests. \n",
    "# They are both non-parametric tests, \n",
    "# which means that they do not assume that the data is normally distributed."
   ]
  }
 ],
 "metadata": {
  "kernelspec": {
   "display_name": "Python 3 (ipykernel)",
   "language": "python",
   "name": "python3"
  },
  "language_info": {
   "codemirror_mode": {
    "name": "ipython",
    "version": 3
   },
   "file_extension": ".py",
   "mimetype": "text/x-python",
   "name": "python",
   "nbconvert_exporter": "python",
   "pygments_lexer": "ipython3",
   "version": "3.10.8"
  }
 },
 "nbformat": 4,
 "nbformat_minor": 5
}
